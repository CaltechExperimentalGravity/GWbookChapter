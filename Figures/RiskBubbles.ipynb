{
 "metadata": {
  "name": "",
  "signature": "sha256:fae3aaa148458eb051da7c752e48c03b354bf3435b70c5fbc1d8c549d72053ca"
 },
 "nbformat": 3,
 "nbformat_minor": 0,
 "worksheets": [
  {
   "cells": [
    {
     "cell_type": "markdown",
     "metadata": {},
     "source": [
      "# Uses NDS2 to get some LIGO \n",
      "### this is basically a vanilla how-to for getting LIGO data with ipython notebook"
     ]
    },
    {
     "cell_type": "code",
     "collapsed": false,
     "input": [
      "# Library Imports and Python parameter settings\n",
      "%matplotlib inline\n",
      "from __future__ import division\n",
      "import numpy as np\n",
      "import matplotlib.pyplot as plt\n",
      "import scipy.signal as sig\n",
      "from IPython.core.display import Image\n",
      "\n",
      "import pandas as pd\n",
      "\n",
      "# Update the matplotlib configuration parameters:\n",
      "plt.rcParams.update({'font.size': 20,\n",
      "                     'font.family': 'serif',\n",
      "                     'figure.figsize': (10, 8),\n",
      "                     'axes.grid': True,\n",
      "                     'grid.color': '#555555'})"
     ],
     "language": "python",
     "metadata": {},
     "outputs": [],
     "prompt_number": 1
    },
    {
     "cell_type": "code",
     "collapsed": false,
     "input": [
      "# table of risks\n",
      "RiskNames = [\"Arm Cavity Loss\", \"Contrast Defect\", \"Angular Control Noise\", \"Beam Tube Scatter\",\n",
      "             \"Output Mode Cleaner Noise\", \"Thermal Lensing\", \"Winter Microseism\", \"Crackle\", \n",
      "             \"Newtonian Gravity\"]\n",
      "RiskChances = [80, 33, 50, 15,\n",
      "               40, 75, 55, 20, \n",
      "               70]\n",
      "RiskCosts = [8, 7, 4, 3,\n",
      "             3, 8, 4, 2,\n",
      "             2]\n",
      "column_names = ['Risks', 'Probability', 'Costs']\n",
      "\n",
      "df = pd.DataFrame(columns=column_names)\n",
      "df[\"Risks\"] = RiskNames\n",
      "df[\"Probability\"] = RiskChances\n",
      "df[\"Costs\"] = RiskCosts\n",
      "df"
     ],
     "language": "python",
     "metadata": {},
     "outputs": [
      {
       "html": [
        "<div style=\"max-height:1000px;max-width:1500px;overflow:auto;\">\n",
        "<table border=\"1\" class=\"dataframe\">\n",
        "  <thead>\n",
        "    <tr style=\"text-align: right;\">\n",
        "      <th></th>\n",
        "      <th>Risks</th>\n",
        "      <th>Probability</th>\n",
        "      <th>Costs</th>\n",
        "    </tr>\n",
        "  </thead>\n",
        "  <tbody>\n",
        "    <tr>\n",
        "      <th>0</th>\n",
        "      <td>           Arm Cavity Loss</td>\n",
        "      <td> 80</td>\n",
        "      <td> 8</td>\n",
        "    </tr>\n",
        "    <tr>\n",
        "      <th>1</th>\n",
        "      <td>           Contrast Defect</td>\n",
        "      <td> 33</td>\n",
        "      <td> 7</td>\n",
        "    </tr>\n",
        "    <tr>\n",
        "      <th>2</th>\n",
        "      <td>     Angular Control Noise</td>\n",
        "      <td> 50</td>\n",
        "      <td> 4</td>\n",
        "    </tr>\n",
        "    <tr>\n",
        "      <th>3</th>\n",
        "      <td>         Beam Tube Scatter</td>\n",
        "      <td> 15</td>\n",
        "      <td> 3</td>\n",
        "    </tr>\n",
        "    <tr>\n",
        "      <th>4</th>\n",
        "      <td> Output Mode Cleaner Noise</td>\n",
        "      <td> 40</td>\n",
        "      <td> 3</td>\n",
        "    </tr>\n",
        "    <tr>\n",
        "      <th>5</th>\n",
        "      <td>           Thermal Lensing</td>\n",
        "      <td> 75</td>\n",
        "      <td> 8</td>\n",
        "    </tr>\n",
        "    <tr>\n",
        "      <th>6</th>\n",
        "      <td>         Winter Microseism</td>\n",
        "      <td> 55</td>\n",
        "      <td> 4</td>\n",
        "    </tr>\n",
        "    <tr>\n",
        "      <th>7</th>\n",
        "      <td>                   Crackle</td>\n",
        "      <td> 20</td>\n",
        "      <td> 2</td>\n",
        "    </tr>\n",
        "    <tr>\n",
        "      <th>8</th>\n",
        "      <td>         Newtonian Gravity</td>\n",
        "      <td> 70</td>\n",
        "      <td> 2</td>\n",
        "    </tr>\n",
        "  </tbody>\n",
        "</table>\n",
        "</div>"
       ],
       "metadata": {},
       "output_type": "pyout",
       "prompt_number": 16,
       "text": [
        "                       Risks  Probability  Costs\n",
        "0            Arm Cavity Loss           80      8\n",
        "1            Contrast Defect           33      7\n",
        "2      Angular Control Noise           50      4\n",
        "3          Beam Tube Scatter           15      3\n",
        "4  Output Mode Cleaner Noise           40      3\n",
        "5            Thermal Lensing           75      8\n",
        "6          Winter Microseism           55      4\n",
        "7                    Crackle           20      2\n",
        "8          Newtonian Gravity           70      2"
       ]
      }
     ],
     "prompt_number": 16
    },
    {
     "cell_type": "code",
     "collapsed": false,
     "input": [
      "fig = plt.figure(figsize=(16, 9))\n",
      "#plt.loglog(aligo[:,0], sqrt(aligo[:,1]), color='Indigo', ls='--', alpha=0.65, lw=4)\n",
      "plt.plot(darm, linestyle='-', lw=2, alpha=0.97, color='Blue',\n",
      "             label='DARM')\n",
      "\n",
      "#plt.xlabel(r'Time [s]', fontsize=18)\n",
      "#plt.ylabel(r'Normalized Power', fontsize=18)\n",
      "\n",
      "#plt.title(\"IR Transmission during ALS Scan\");\n",
      "plt.grid(b=True, which=\"major\", color='gray', alpha=0.33, linestyle='-' , lw=4)\n",
      "plt.grid(b=True, which=\"minor\", color='gray', alpha=0.22, linestyle='--', lw=1)\n",
      "plt.axis('tight')\n",
      "#plt.xlim((2,12))\n",
      "#plt.ylim((1e-3, 1))\n",
      "\n",
      "leg = plt.legend(loc='best', fancybox=True, fontsize=14)\n",
      "leg.get_frame().set_alpha(0.5)\n",
      "\n",
      "#plt.savefig(\"TRY.pdf\", bbox_inches='tight')\n",
      "\n",
      "plt.show()"
     ],
     "language": "python",
     "metadata": {},
     "outputs": [
      {
       "output_type": "stream",
       "stream": "stderr",
       "text": [
        "/opt/local/Library/Frameworks/Python.framework/Versions/2.7/lib/python2.7/site-packages/IPython/core/formatters.py:239: FormatterWarning: Exception in image/png formatter: Allocated too many blocks\n",
        "  FormatterWarning,\n"
       ]
      },
      {
       "metadata": {},
       "output_type": "display_data",
       "text": [
        "<matplotlib.figure.Figure at 0x11563e810>"
       ]
      }
     ],
     "prompt_number": 5
    },
    {
     "cell_type": "code",
     "collapsed": false,
     "input": [
      "dir(data[0].channel)"
     ],
     "language": "python",
     "metadata": {},
     "outputs": [],
     "prompt_number": 16
    },
    {
     "cell_type": "markdown",
     "metadata": {},
     "source": [
      "## Some references\n",
      "* http://wiki.scipy.org/NumPy_for_Matlab_Users\n",
      "* http://matplotlib.org/api/pyplot_api.html#matplotlib.pyplot.imshow"
     ]
    },
    {
     "cell_type": "code",
     "collapsed": false,
     "input": [
      "b = [0.1, 0.3, 0.5]\n",
      "b"
     ],
     "language": "python",
     "metadata": {},
     "outputs": [
      {
       "metadata": {},
       "output_type": "pyout",
       "prompt_number": 3,
       "text": [
        "[0.1, 0.3, 0.5]"
       ]
      }
     ],
     "prompt_number": 3
    },
    {
     "cell_type": "code",
     "collapsed": false,
     "input": [
      "df[\"Risks\"] = b"
     ],
     "language": "python",
     "metadata": {},
     "outputs": [],
     "prompt_number": 10
    },
    {
     "cell_type": "code",
     "collapsed": false,
     "input": [
      "df"
     ],
     "language": "python",
     "metadata": {},
     "outputs": [
      {
       "html": [
        "<div style=\"max-height:1000px;max-width:1500px;overflow:auto;\">\n",
        "<table border=\"1\" class=\"dataframe\">\n",
        "  <thead>\n",
        "    <tr style=\"text-align: right;\">\n",
        "      <th></th>\n",
        "      <th>Risks</th>\n",
        "      <th>Probability</th>\n",
        "      <th>Costs</th>\n",
        "    </tr>\n",
        "  </thead>\n",
        "  <tbody>\n",
        "    <tr>\n",
        "      <th>0</th>\n",
        "      <td>           Arm Cavity Loss</td>\n",
        "      <td> 80</td>\n",
        "      <td> 8</td>\n",
        "    </tr>\n",
        "    <tr>\n",
        "      <th>1</th>\n",
        "      <td>           Contrast Defect</td>\n",
        "      <td> 33</td>\n",
        "      <td> 7</td>\n",
        "    </tr>\n",
        "    <tr>\n",
        "      <th>2</th>\n",
        "      <td>     Angular Control Noise</td>\n",
        "      <td> 50</td>\n",
        "      <td> 4</td>\n",
        "    </tr>\n",
        "    <tr>\n",
        "      <th>3</th>\n",
        "      <td>         Beam Tube Scatter</td>\n",
        "      <td> 15</td>\n",
        "      <td> 3</td>\n",
        "    </tr>\n",
        "    <tr>\n",
        "      <th>4</th>\n",
        "      <td> Output Mode Cleaner Noise</td>\n",
        "      <td> 40</td>\n",
        "      <td> 3</td>\n",
        "    </tr>\n",
        "    <tr>\n",
        "      <th>5</th>\n",
        "      <td>           Thermal Lensing</td>\n",
        "      <td> 75</td>\n",
        "      <td> 8</td>\n",
        "    </tr>\n",
        "    <tr>\n",
        "      <th>6</th>\n",
        "      <td>         Winter Microseism</td>\n",
        "      <td> 55</td>\n",
        "      <td> 4</td>\n",
        "    </tr>\n",
        "    <tr>\n",
        "      <th>7</th>\n",
        "      <td>                   Crackle</td>\n",
        "      <td> 20</td>\n",
        "      <td> 2</td>\n",
        "    </tr>\n",
        "    <tr>\n",
        "      <th>8</th>\n",
        "      <td>         Newtonian Gravity</td>\n",
        "      <td> 70</td>\n",
        "      <td> 2</td>\n",
        "    </tr>\n",
        "  </tbody>\n",
        "</table>\n",
        "</div>"
       ],
       "metadata": {},
       "output_type": "pyout",
       "prompt_number": 15,
       "text": [
        "                       Risks  Probability  Costs\n",
        "0            Arm Cavity Loss           80      8\n",
        "1            Contrast Defect           33      7\n",
        "2      Angular Control Noise           50      4\n",
        "3          Beam Tube Scatter           15      3\n",
        "4  Output Mode Cleaner Noise           40      3\n",
        "5            Thermal Lensing           75      8\n",
        "6          Winter Microseism           55      4\n",
        "7                    Crackle           20      2\n",
        "8          Newtonian Gravity           70      2"
       ]
      }
     ],
     "prompt_number": 15
    },
    {
     "cell_type": "code",
     "collapsed": false,
     "input": [],
     "language": "python",
     "metadata": {},
     "outputs": []
    }
   ],
   "metadata": {}
  }
 ]
}