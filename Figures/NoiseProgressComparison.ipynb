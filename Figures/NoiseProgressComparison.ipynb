{
 "cells": [
  {
   "cell_type": "markdown",
   "metadata": {},
   "source": [
    "# Plots of Rates and Sensitivities as a function of Time"
   ]
  },
  {
   "cell_type": "code",
   "execution_count": null,
   "metadata": {},
   "outputs": [],
   "source": [
    "# Library Imports and Python parameter settings\n",
    "%matplotlib inline\n",
    "#import sympy as sym\n",
    "import numpy as np\n",
    "from __future__ import division\n",
    "import matplotlib as mpl\n",
    "import matplotlib.pyplot as plt\n",
    "#import scipy.signal as sig\n",
    "import scipy.constants as const\n",
    "#from IPython.core.display import Image\n",
    "\n",
    "# Update the matplotlib configuration parameters:\n",
    "mpl.rcParams.update({'text.usetex': True,\n",
    "                     'lines.linewidth': 2.5,\n",
    "                     'font.size': 18,\n",
    "                     'xtick.labelsize': 'medium',\n",
    "                     'ytick.labelsize': 'medium',\n",
    "                     'axes.labelsize': 'small',\n",
    "                     'axes.grid': True,\n",
    "                     'grid.alpha': 0.73,\n",
    "                     'lines.markersize': 12,\n",
    "                     'legend.borderpad': 0.2,\n",
    "                     'legend.fancybox': True,\n",
    "                     'legend.fontsize': 'small',\n",
    "                     'legend.framealpha': 0.7,\n",
    "                     'legend.handletextpad': 0.3,\n",
    "                     'legend.labelspacing': 0.5,\n",
    "                     'legend.loc': 'best',\n",
    "                     'savefig.dpi': 100,\n",
    "                     'pdf.compression': 9})"
   ]
  },
  {
   "cell_type": "code",
   "execution_count": null,
   "metadata": {},
   "outputs": [],
   "source": [
    "# Evolution of GW source strengths and rates\n",
    "\n"
   ]
  },
  {
   "cell_type": "code",
   "execution_count": null,
   "metadata": {},
   "outputs": [],
   "source": [
    "# Plot sensitivity evolution history\n",
    "\n",
    "#   Year          strain/rHz  BNSrange\n",
    "iLIGO = np.array([\n",
    "    [2001 + 5/12,     1e-14,  1e-5],   # 5/2001\n",
    "    [2001 + 11.9/12,  1e-15,  1e-4],   # 12/2001\n",
    "    [2002 + 5/12,     1e-16,  0.001],   # 5/2002\n",
    "    [2002 + 8/12,     2e-17,  0.1],   # 8/2002\n",
    "    [2003 + 3/12,   1.5e-18,  1],   # 3/2003\n",
    "    [2003 + 12/12,    1e-18,  2],   # 12/2003\n",
    "    [2005 + 4/12,     2e-19,  5],   # 4/2005\n",
    "    [2005 + 9/12,     1e-19,  10],    # 9/2005\n",
    "    [2010 + 6/12,     5e-20,  20]\n",
    "    ])\n",
    "\n",
    "#   Year          strain/rHz  BNSrange\n",
    "aLIGO = np.array([\n",
    "        [2014+5/12, 5e-22 , 0.58],\n",
    "        [2014+5.5/12, 1.3e-22, 3.7],\n",
    "        [2014+6/12, 0.8e-22, 5.9],\n",
    "        [2014+6.7/12, 3e-23, 15.8],\n",
    "        [2014+7/12, 2e-23, 20.1],\n",
    "        [2014+11/12, 1e-23, 46.5],\n",
    "        [2015+2/12, 1e-23, 60.7],\n",
    "        [2015+6/12, 1e-23, 64],\n",
    "        [2017+0.5/12, 0.8e-23, 100]\n",
    "        ])\n",
    "\n",
    "\n",
    "fu = np.array([\n",
    "    [2017,  3e-24, 205],   # aLIGO\n",
    "    [2025,  1e-24, 900],   # LIGO 3\n",
    "    [2035,  4e-25, 1400]   # ET\n",
    "     ])"
   ]
  },
  {
   "cell_type": "code",
   "execution_count": null,
   "metadata": {},
   "outputs": [],
   "source": [
    "fig = plt.figure(figsize=(10, 7))\n",
    "\n",
    "ti = iLIGO[0,0]\n",
    "ta = aLIGO[0,0]\n",
    "\n",
    "ax1 = fig.add_subplot(111)\n",
    "ax1.semilogy(iLIGO[:,0] - ti,  iLIGO[:,1]/3995,ls='None', marker='s', color='xkcd:black', alpha=0.65, markersize=13)\n",
    "ax1.semilogy(aLIGO[:,0] - ta,  aLIGO[:,1], ls='None', marker='o', color='xkcd:black', alpha=0.65, markersize=13)\n",
    "#ax1.semilogy(fu[:,0], fu[:,1], 'gs', alpha=0.65, markersize=16)\n",
    "\n",
    "plt.xlabel(r'Time [y]')\n",
    "plt.ylabel(r'Strain Noise [1/$\\sqrt{\\rm Hz}$]', fontsize=18)\n",
    "\n",
    "plt.title(\"Sensitivity Evolution of GW Detectors\");\n",
    "#plt.xlim((1960, 2040));\n",
    "#plt.ylim((1e-25, 3e-14));\n",
    "plt.legend(('iLIGO', 'aLIGO'),\n",
    "        loc='center')\n",
    "\n",
    "# now, the second axes that shares the x-axis with the ax1\n",
    "ax2 = fig.add_subplot(111, sharex=ax1, frameon=False)\n",
    "ax2.semilogy(iLIGO[:,0] - ti,  iLIGO[:,2], ls='None', marker='s', color='xkcd:grey', alpha=0.65, markersize=13)\n",
    "ax2.semilogy(aLIGO[:,0] - ta,  aLIGO[:,2], ls='None', marker='o', color='xkcd:grey', alpha=0.65, markersize=18)\n",
    "#ax2.semilogy(fu[:,0], fu[:,2], 'gd', alpha=0.65, markersize=16)\n",
    "#plt.grid(color='gray', alpha=0.15, linestyle='dashed', linewidth=4)\n",
    "ax2.yaxis.tick_right()\n",
    "ax2.yaxis.set_label_position(\"right\")\n",
    "plt.ylabel(\"Binary NS Range [Mpc]\")\n",
    "\n",
    "plt.legend(('iLIGO', 'aLIGO'),\n",
    "          loc='center right')\n",
    "\n",
    "plt.savefig(\"NoiseProgComp.pdf\", bbox_inches='tight')\n",
    "\n",
    "plt.show()"
   ]
  },
  {
   "cell_type": "code",
   "execution_count": null,
   "metadata": {},
   "outputs": [],
   "source": []
  },
  {
   "cell_type": "code",
   "execution_count": null,
   "metadata": {},
   "outputs": [],
   "source": []
  },
  {
   "cell_type": "code",
   "execution_count": null,
   "metadata": {},
   "outputs": [],
   "source": []
  }
 ],
 "metadata": {
  "kernelspec": {
   "display_name": "Python 2",
   "language": "python",
   "name": "python2"
  },
  "language_info": {
   "codemirror_mode": {
    "name": "ipython",
    "version": 2
   },
   "file_extension": ".py",
   "mimetype": "text/x-python",
   "name": "python",
   "nbconvert_exporter": "python",
   "pygments_lexer": "ipython2",
   "version": "2.7.14"
  }
 },
 "nbformat": 4,
 "nbformat_minor": 1
}
